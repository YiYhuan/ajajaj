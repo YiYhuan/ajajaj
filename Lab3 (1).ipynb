{
 "cells": [
  {
   "cell_type": "markdown",
   "id": "f7cf5d12-54f8-4478-a56a-e9cd441d05d2",
   "metadata": {},
   "source": [
    "# Laboratorio 3"
   ]
  },
  {
   "cell_type": "markdown",
   "id": "ca709704-0685-44a4-b146-fcd72e358757",
   "metadata": {},
   "source": [
    "## Integrantes:\n",
    "#### Paula López Quesada B53957\n",
    "#### Jhonny Leung Quesada C34259"
   ]
  },
  {
   "cell_type": "code",
   "execution_count": 3,
   "id": "96ba0ec0-1ef0-41a9-be2a-22f3baf2e861",
   "metadata": {},
   "outputs": [],
   "source": [
    "import math\n",
    "import pandas as pd\n",
    "import numpy as np\n",
    "from matplotlib import pyplot as plt\n",
    "import seaborn as sns\n",
    "import requests"
   ]
  },
  {
   "cell_type": "markdown",
   "id": "ef3fae16-af93-4c8c-8728-8d995179c5ea",
   "metadata": {},
   "source": [
    "### Laboratorio 2 - anterior"
   ]
  },
  {
   "cell_type": "code",
   "execution_count": 5,
   "id": "f73646ab-5db5-46a3-a8dc-d5daa93c373f",
   "metadata": {},
   "outputs": [],
   "source": [
    "lifeExpectancydata = pd.read_csv('Life Expectancy Data.csv') #Carga la base de datos y lo guarda en una variable\n",
    "worldCitiesData = pd.read_csv('worldcitiespop.csv', low_memory=False) #Carga la base de datos y lo guarda en una variable"
   ]
  },
  {
   "cell_type": "markdown",
   "id": "d88be9b9-d0a4-4e9c-b7da-b24560c234a5",
   "metadata": {},
   "source": [
    "#### 2. (5%) Para la base de datos de esperanza de vida por país (life-expectancywho), obtenga un subconjunto para conservar únicamente el año más reciente para cada país."
   ]
  },
  {
   "cell_type": "code",
   "execution_count": 7,
   "id": "f2ba60d7-2a00-4a9c-96e2-175e5b317d6d",
   "metadata": {},
   "outputs": [],
   "source": [
    "lifeExpectancydata2014 = lifeExpectancydata[(lifeExpectancydata['Year'] == 2014)] #Para el punto 10, ya que los valores de total expenditure del 2015 no estan disponibles\n",
    "#lifeExpectancydata2014"
   ]
  },
  {
   "cell_type": "code",
   "execution_count": 8,
   "id": "81c666a6-4928-4937-8a4d-bcbf397b9aed",
   "metadata": {},
   "outputs": [],
   "source": [
    "#Nueva variable que ordena la información filtrada por año y elimina los duplicados por país, manteniendo los valores más recientes\n",
    "recentlifeExpectancydata = lifeExpectancydata.sort_values('Year', ascending=False).drop_duplicates('Country').sort_index() \n",
    "\n",
    "del lifeExpectancydata #Elimina lo que hay en la variable para liberar el espacio en la memoria\n",
    "#recentlifeExpectancydata #Imprime la nueva base de datos filtrada con valores unicos por país"
   ]
  },
  {
   "cell_type": "markdown",
   "id": "d771d01c-d5f9-4fad-b473-a7579cadfe8f",
   "metadata": {},
   "source": [
    "#### 3. (5%) Investigue a qué corresponden las columnas de ‘hepatitis B’, ‘measles’ (sarampión), ' BMI ', 'under-five deaths ', 'Polio', 'Total expenditure', 'Diphtheria ', ' HIV/AIDS', 'thinness 1-19 years', 'Income composition of resources', ‘schooling’ y para cada una explique cuál es el propósito de tenerlas."
   ]
  },
  {
   "cell_type": "markdown",
   "id": "4a7c135b-b83d-4f71-bfcf-1dacafb4758f",
   "metadata": {},
   "source": [
    "Hepatitis B (Hepatitis B (HepB) immunization coverage among 1-year-olds (%))\n",
    "Se refiere al porcentaje de vacunación contra la Hepatitis B (infección vírica del hígado) entre niños de 1 año, una alta cobertura va a reducir el número de casos y las complicaciones graves de esta enfermedad."
   ]
  },
  {
   "cell_type": "markdown",
   "id": "142e9f03-3813-4279-9898-fe22b2999581",
   "metadata": {},
   "source": [
    "Measles (Measles - number of reported cases per 1000 population)\n",
    "Se refiere al número de casos reportados de sarampión (enfermedad respiratoria grave que causa un sarpullido y fiebre) por cada 1000 habitantes, una alta incidencia puede afectar la esperanza de vida."
   ]
  },
  {
   "cell_type": "markdown",
   "id": "b54a07f9-2b98-418c-8c53-3b3b9cfbd040",
   "metadata": {},
   "source": [
    "BMI (Average Body Mass Index of entire population)\n",
    "Se refiere al promedio del índice de masa corporal de los habitantes, si este es saludable, puede reducir el riesgo de enfermedades y problemas de salud relacionados con el peso."
   ]
  },
  {
   "cell_type": "markdown",
   "id": "d6aed38c-077a-4dcf-89ac-959da71a46c6",
   "metadata": {},
   "source": [
    "Under-five deaths (Number of under-five deaths per 1000 population)\n",
    "Se refiere al número de muertes de niños menores de 5 años por cada 1000 habitantes."
   ]
  },
  {
   "cell_type": "markdown",
   "id": "55435171-eb39-4f70-a9a3-0cf94983afcb",
   "metadata": {},
   "source": [
    "Polio (Polio (Pol3) immunization coverage among 1-year-olds (%))\n",
    "Se refiere al porcentaje de vacunación contra Polio (afecta los nervios y lleva a parálisis total o parcial) entre niños de 1 año, una alta cobertura va a reducir el número de casos y las complicaciones graves de esta enfermedad."
   ]
  },
  {
   "cell_type": "markdown",
   "id": "5098ad83-2355-49ae-86da-53347db41bbb",
   "metadata": {},
   "source": [
    "Total expenditure (General government expenditure on health as a percentage of total government expenditure (%))\n",
    "Se refiere al porcentaje de gasto del gobierno en salud con respecto al gasto total, lo cual está asociado a la calidad y el acceso a los servicios de salud."
   ]
  },
  {
   "cell_type": "markdown",
   "id": "9d5c3f08-5c34-44ea-a458-a39be750c4b4",
   "metadata": {},
   "source": [
    "Diphtheria (Diphtheria tetanus toxoid and pertussis (DTP3) immunization coverage among 1-year-olds (%))\n",
    "Se refiere al porcentaje de vacunación contra la Difteria (afecta las membranas mucosas de la nariz y la garganta) entre niños de 1 año, una alta cobertura va a reducir el número de casos y las complicaciones graves de esta enfermedad."
   ]
  },
  {
   "cell_type": "markdown",
   "id": "996bd705-8a93-439b-82c8-9248b6fcd226",
   "metadata": {},
   "source": [
    "HIV/AIDS (Deaths per 1 000 live births HIV/AIDS (0-4 years))\n",
    "Se refiere a la cantidad de muertes por VHI/SIDA (virus que ataca al sistema inmunitario) entre niños de 0 a 4 años."
   ]
  },
  {
   "cell_type": "markdown",
   "id": "d2dd78e3-d94f-49f4-ad79-7a31f29575fa",
   "metadata": {},
   "source": [
    "Thinness 1-19 years (Prevalence of thinness among children and adolescents for Age 10 to 19 (%))\n",
    "Se refiere al porcentaje de delgadez entre niños y adolescentes de 10 a 19 años, un alto porcentaje indica desnutición y problemas de salud a largo plazo."
   ]
  },
  {
   "cell_type": "markdown",
   "id": "d37e48aa-364f-437e-90ba-4fbe99322b96",
   "metadata": {},
   "source": [
    "Income composition of resources (Human Development Index in terms of income composition of resources (index ranging from 0 to 1))\n",
    "Se refiere al índice de desarrollo humano en términos de la composición de ingresos de los recursos, un mayor índice indica mejores recursos económicos y sociales."
   ]
  },
  {
   "cell_type": "markdown",
   "id": "9f92feb7-ef4a-4460-af40-dc1a8f5d588a",
   "metadata": {},
   "source": [
    "Schooling (Number of years of Schooling(years))\n",
    "Se refiere al número de años de escolaridad del país, más años puede indicar mejores prácticas de salud y acceso a servicios."
   ]
  },
  {
   "cell_type": "markdown",
   "id": "71a5237c-d1fb-4d21-875a-97ba7ef4898c",
   "metadata": {},
   "source": [
    "#### 4. (5%) Elimine los datos con valores nulos en la esperanza de vida: países que no tienen ningún valor para esperanza de vida. En caso de no haber valores nulos para la esperanza de vida, igual incluya el comando que realiza la función de quitar estos valores."
   ]
  },
  {
   "cell_type": "code",
   "execution_count": 22,
   "id": "ab292496-5a81-445a-8df7-d1eb237e08e7",
   "metadata": {},
   "outputs": [],
   "source": [
    "#Nueva variable con un filtro para tener los datos que tengan un valor en Life expectancy\n",
    "filteredlifeExpectancydata = recentlifeExpectancydata[(recentlifeExpectancydata['Life expectancy '].notna())]\n",
    "del recentlifeExpectancydata #Elimina lo que hay en la variable para liberar el espacio en la memoria\n",
    "#filteredlifeExpectancydata #Imprime la nueva base de datos filtrada con no nulos"
   ]
  },
  {
   "cell_type": "markdown",
   "id": "dd1eee3c-ad28-4acd-a906-903daa2c0684",
   "metadata": {},
   "source": [
    "#### 5. (5%) Para la variable de esperanza de vida, calcule la media, mediana y la desviación estándar de todos los países, para el año más reciente. Imprima estos valores en el notebook."
   ]
  },
  {
   "cell_type": "code",
   "execution_count": 24,
   "id": "96892689-db02-484a-8231-42d9839c8b47",
   "metadata": {},
   "outputs": [
    {
     "data": {
      "text/plain": [
       "71.61693989071038"
      ]
     },
     "execution_count": 24,
     "metadata": {},
     "output_type": "execute_result"
    }
   ],
   "source": [
    "lifeExp_mean = filteredlifeExpectancydata['Life expectancy '].mean() #Para obtener la media de la esperanza de vida\n",
    "lifeExp_mean #Imprime la media"
   ]
  },
  {
   "cell_type": "code",
   "execution_count": 25,
   "id": "e4d9744b-99ea-4fce-8b93-115f1bb859ef",
   "metadata": {},
   "outputs": [
    {
     "data": {
      "text/plain": [
       "73.9"
      ]
     },
     "execution_count": 25,
     "metadata": {},
     "output_type": "execute_result"
    }
   ],
   "source": [
    "lifeExp_median = filteredlifeExpectancydata['Life expectancy '].median() #Para obtener la mediana de la esperanza de vida\n",
    "lifeExp_median #Imprime la mediana"
   ]
  },
  {
   "cell_type": "code",
   "execution_count": 26,
   "id": "00db111d-c064-4c09-8cd6-3f96e47aafbd",
   "metadata": {},
   "outputs": [
    {
     "data": {
      "text/plain": [
       "8.101479823784336"
      ]
     },
     "execution_count": 26,
     "metadata": {},
     "output_type": "execute_result"
    }
   ],
   "source": [
    "lifeExp_std = np.std(filteredlifeExpectancydata['Life expectancy ']) #Para obtener la desviación estandar de la esperanza de vida\n",
    "lifeExp_std #Imprime la desviación estandar"
   ]
  },
  {
   "cell_type": "markdown",
   "id": "e986d8e7-8275-4916-9d6b-c84e6e20cf0a",
   "metadata": {},
   "source": [
    "#### 6. (10%) Realice un histograma con la variable esperanza de vida para conocer cómo se distribuyen los datos. Cambie progresivamente el número de barras, desde 5 hasta 100. Reporte qué cambia en las distribuciones conforme aumenta la cantidad de barras. Escoja qué número de barras le parece óptimo y explique por qué. Investigue en alguna fuente fiable qué criterios se pueden utilizar y reporte un enlace a esta fuente."
   ]
  },
  {
   "cell_type": "code",
   "execution_count": 28,
   "id": "2a4ef481-7978-41d9-8bb4-244b17be58a1",
   "metadata": {},
   "outputs": [
    {
     "data": {
      "image/png": "[encoded data removed]",
      "text/plain": [
       "<Figure size 640x480 with 1 Axes>"
      ]
     },
     "metadata": {},
     "output_type": "display_data"
    }
   ],
   "source": [
    "plt.hist(filteredlifeExpectancydata['Life expectancy '], bins=5)\n",
    "plt.show() "
   ]
  },
  {
   "cell_type": "code",
   "execution_count": 29,
   "id": "e286d179-e37b-47be-8a84-1c97092f428b",
   "metadata": {},
   "outputs": [
    {
     "data": {
      "text/plain": [
       "(array([ 3.,  4.,  1.,  6.,  8.,  5.,  9., 10., 11., 11.,  7.,  9., 30.,\n",
       "        22., 13.,  5., 17.,  8.,  3.,  1.]),\n",
       " array([51.  , 52.85, 54.7 , 56.55, 58.4 , 60.25, 62.1 , 63.95, 65.8 ,\n",
       "        67.65, 69.5 , 71.35, 73.2 , 75.05, 76.9 , 78.75, 80.6 , 82.45,\n",
       "        84.3 , 86.15, 88.  ]),\n",
       " <BarContainer object of 20 artists>)"
      ]
     },
     "execution_count": 29,
     "metadata": {},
     "output_type": "execute_result"
    },
    {
     "data": {
      "image/png": "[encoded data removed]",
      "text/plain": [
       "<Figure size 640x480 with 1 Axes>"
      ]
     },
     "metadata": {},
     "output_type": "display_data"
    }
   ],
   "source": [
    "plt.hist(filteredlifeExpectancydata['Life expectancy '], bins=20)\n",
    "#plt.show() "
   ]
  },
  {
   "cell_type": "code",
   "execution_count": 30,
   "id": "388716ce-a71f-44f7-9b3e-55182c6778f6",
   "metadata": {},
   "outputs": [
    {
     "data": {
      "text/plain": [
       "(array([ 1.,  1.,  2.,  2.,  1.,  1.,  0.,  0.,  3.,  3.,  3.,  2.,  3.,\n",
       "         1.,  4.,  2.,  7.,  1.,  5.,  4.,  7.,  3.,  1.,  4.,  7.,  3.,\n",
       "         0.,  5.,  6.,  2.,  8., 11., 13., 13.,  7.,  7.,  5.,  4.,  2.,\n",
       "         0.,  6.,  7.,  9.,  2.,  1.,  2.,  0.,  1.,  0.,  1.]),\n",
       " array([51.  , 51.74, 52.48, 53.22, 53.96, 54.7 , 55.44, 56.18, 56.92,\n",
       "        57.66, 58.4 , 59.14, 59.88, 60.62, 61.36, 62.1 , 62.84, 63.58,\n",
       "        64.32, 65.06, 65.8 , 66.54, 67.28, 68.02, 68.76, 69.5 , 70.24,\n",
       "        70.98, 71.72, 72.46, 73.2 , 73.94, 74.68, 75.42, 76.16, 76.9 ,\n",
       "        77.64, 78.38, 79.12, 79.86, 80.6 , 81.34, 82.08, 82.82, 83.56,\n",
       "        84.3 , 85.04, 85.78, 86.52, 87.26, 88.  ]),\n",
       " <BarContainer object of 50 artists>)"
      ]
     },
     "execution_count": 30,
     "metadata": {},
     "output_type": "execute_result"
    },
    {
     "data": {
      "image/png": "[encoded data removed]",
      "text/plain": [
       "<Figure size 640x480 with 1 Axes>"
      ]
     },
     "metadata": {},
     "output_type": "display_data"
    }
   ],
   "source": [
    "plt.hist(filteredlifeExpectancydata['Life expectancy '], bins=50)\n",
    "#plt.show() "
   ]
  },
  {
   "cell_type": "code",
   "execution_count": 31,
   "id": "e6022b5b-1786-4163-8c41-dd6ce7c7deb7",
   "metadata": {},
   "outputs": [
    {
     "data": {
      "image/png": "[encoded data removed]",
      "text/plain": [
       "<Figure size 640x480 with 1 Axes>"
      ]
     },
     "metadata": {},
     "output_type": "display_data"
    }
   ],
   "source": [
    "plt.hist(filteredlifeExpectancydata['Life expectancy '], bins=100)\n",
    "plt.show() "
   ]
  },
  {
   "cell_type": "markdown",
   "id": "d9599135-e402-481f-977b-5fdd02af6a40",
   "metadata": {},
   "source": [
    "Cuando el histograma tiene pocas barras o bins es más fácil de entender pero se pierden detalles de la distribución de los datos, al contrario, cuando hay muchas barras como el gráfico con 50 y 100 barras, es muy difícil de entender por la cantidad de detalles en la distribución de los datos."
   ]
  },
  {
   "cell_type": "markdown",
   "id": "0a7168aa-bda1-4533-8d25-f40e78c4a087",
   "metadata": {},
   "source": [
    "##### Cálculo optimo de Bins según Sturges y Freedman"
   ]
  },
  {
   "cell_type": "code",
   "execution_count": 34,
   "id": "0ca68ad4-cfc1-4508-9161-8d406c53c8a7",
   "metadata": {},
   "outputs": [
    {
     "data": {
      "text/plain": [
       "8.515699838284043"
      ]
     },
     "execution_count": 34,
     "metadata": {},
     "output_type": "execute_result"
    }
   ],
   "source": [
    "#Sturges\n",
    "sturges_bins = np.log2(len(filteredlifeExpectancydata['Life expectancy '])) + 1\n",
    "sturges_bins"
   ]
  },
  {
   "cell_type": "code",
   "execution_count": 35,
   "id": "abe6f3e6-55c5-45e9-ad2d-1d9f9c5df2e5",
   "metadata": {},
   "outputs": [
    {
     "data": {
      "image/png": "[encoded data removed]",
      "text/plain": [
       "<Figure size 640x480 with 1 Axes>"
      ]
     },
     "metadata": {},
     "output_type": "display_data"
    }
   ],
   "source": [
    "plt.hist(filteredlifeExpectancydata['Life expectancy '], bins=9)\n",
    "plt.show() "
   ]
  },
  {
   "cell_type": "code",
   "execution_count": 36,
   "id": "dabe00cb-ed85-45f8-9595-1b3423e53b9f",
   "metadata": {},
   "outputs": [
    {
     "data": {
      "text/plain": [
       "10.377866996485755"
      ]
     },
     "execution_count": 36,
     "metadata": {},
     "output_type": "execute_result"
    }
   ],
   "source": [
    "#Freedman\n",
    "num_data = len(filteredlifeExpectancydata['Life expectancy '])\n",
    "irq = np.percentile(filteredlifeExpectancydata['Life expectancy '], 75) - np.percentile(filteredlifeExpectancydata['Life expectancy '], 25)\n",
    "bin_width = 2 * irq / np.power(num_data, 1/3)\n",
    "freedman_bins = (np.max(filteredlifeExpectancydata['Life expectancy ']) -  np.min(filteredlifeExpectancydata['Life expectancy '])) / bin_width  + 1\n",
    "\n",
    "freedman_bins"
   ]
  },
  {
   "cell_type": "code",
   "execution_count": 37,
   "id": "6877b052-6c66-4022-8525-916728cbd7a1",
   "metadata": {},
   "outputs": [
    {
     "data": {
      "image/png": "[encoded data removed]",
      "text/plain": [
       "<Figure size 640x480 with 1 Axes>"
      ]
     },
     "metadata": {},
     "output_type": "display_data"
    }
   ],
   "source": [
    "plt.hist(filteredlifeExpectancydata['Life expectancy '], bins=10)\n",
    "plt.show() "
   ]
  },
  {
   "cell_type": "markdown",
   "id": "bf74da20-05a7-4e99-be23-43af70bf5ad4",
   "metadata": {},
   "source": [
    "Al realizar ambos cálculos, el número mayor de Bins resultante es el de Freedman, el cual permite ver con más detalle la distribución de los datos, por lo tanto, se utilizarán 10 bins."
   ]
  },
  {
   "cell_type": "code",
   "execution_count": 39,
   "id": "0d5c319c-ea07-4c45-af09-acecc5b06dd0",
   "metadata": {},
   "outputs": [
    {
     "data": {
      "image/png": "[encoded data removed]",
      "text/plain": [
       "<Figure size 640x480 with 1 Axes>"
      ]
     },
     "metadata": {},
     "output_type": "display_data"
    }
   ],
   "source": [
    "plt.hist(filteredlifeExpectancydata['Life expectancy '], bins=10)\n",
    "plt.title('Histograma de la esperanza de vida') #Para agregar el título\n",
    "plt.xlabel('Esperanza de vida') #Para agregar el label del eje x\n",
    "plt.ylabel('Frecuencia') #Para agregar el label del eje y\n",
    "plt.show() "
   ]
  },
  {
   "cell_type": "markdown",
   "id": "67884d0c-714f-42ca-a55f-243ea72ad792",
   "metadata": {},
   "source": [
    "Fuente:"
   ]
  },
  {
   "cell_type": "markdown",
   "id": "027efe8a-30fb-41b9-9d36-ca096d53546c",
   "metadata": {},
   "source": [
    "https://medium.com/@maxmarkovvision/optimal-number-of-bins-for-histograms-3d7c48086fde"
   ]
  },
  {
   "cell_type": "markdown",
   "id": "6ec4662d-7dc6-4515-8b57-cec364fb624b",
   "metadata": {},
   "source": [
    "https://www.analyticslane.com/2022/02/25/calcular-el-numero-optimo-de-bins-para-un-histograma/"
   ]
  },
  {
   "cell_type": "markdown",
   "id": "6c6d447e-abdc-405a-b217-3dd44d1f17fb",
   "metadata": {},
   "source": [
    "#### 7. (10%) En la misma gráfica anterior, coloque líneas verticales en la media (𝜇) y en la posiciones correspondientes a 𝜇 más una desviación estándar (𝜎) y menos una desviación estándar: 𝜇 − 𝜎 y 𝜇 + 𝜎. Comente qué particularidades tiene esta región alrededor de la media."
   ]
  },
  {
   "cell_type": "code",
   "execution_count": 44,
   "id": "01cd7584-b739-44a1-8f62-87f749373395",
   "metadata": {},
   "outputs": [
    {
     "data": {
      "image/png": "[encoded data removed]",
      "text/plain": [
       "<Figure size 640x480 with 1 Axes>"
      ]
     },
     "metadata": {},
     "output_type": "display_data"
    }
   ],
   "source": [
    "plt.hist(filteredlifeExpectancydata['Life expectancy '], bins=10)\n",
    "plt.title('Histograma de la esperanza de vida') #Para agregar el título\n",
    "plt.xlabel('Esperanza de vida') #Para agregar el label del eje x\n",
    "plt.ylabel('Frecuencia') #Para agregar el label del eje y\n",
    "plt.axvline(lifeExp_mean, color='m', linestyle='dashed', linewidth=1, label='Mean')\n",
    "plt.axvline(lifeExp_mean - lifeExp_std, color='g', linestyle='dashed', linewidth=1, label='Mean − std')\n",
    "plt.axvline(lifeExp_mean + lifeExp_std, color='c', linestyle='dashed', linewidth=1, label='Mean + std')\n",
    "plt.legend()\n",
    "\n",
    "plt.show() "
   ]
  },
  {
   "cell_type": "markdown",
   "id": "cbd6275f-9773-4696-a9c6-e831ee548bc8",
   "metadata": {},
   "source": [
    "La media indica dónde se concentra la mayor parte de los datos, y la desviación estándar indica qué tan dispersos están los datos alrededor de la media.\n",
    "Las líneas de la media +/ - 1 desviación estándar delimita el rango donde se encuentra el 68% de los datos cuando los datos tienen una distribución normal."
   ]
  },
  {
   "cell_type": "code",
   "execution_count": 46,
   "id": "62ec3a3c-836b-4185-a7c3-da86c3a493ec",
   "metadata": {},
   "outputs": [
    {
     "data": {
      "text/plain": [
       "0.644808743169399"
      ]
     },
     "execution_count": 46,
     "metadata": {},
     "output_type": "execute_result"
    }
   ],
   "source": [
    "mMean = lifeExp_mean - lifeExp_std\n",
    "pMean = lifeExp_mean + lifeExp_std\n",
    "mpMean = [x for x in filteredlifeExpectancydata['Life expectancy '] if mMean <= x <= pMean]\n",
    "(len(mpMean) / len(filteredlifeExpectancydata['Life expectancy ']))"
   ]
  },
  {
   "cell_type": "markdown",
   "id": "be4017a5-726a-43ca-a043-e38ae097f565",
   "metadata": {},
   "source": [
    "En este caso, el 64.48% de los datos se encuentran dentro del rango de la media +/ - 1 desviación estándar, lo que indica que los datos no siguen una distribución normal perfecta"
   ]
  },
  {
   "cell_type": "markdown",
   "id": "96c67b2a-f801-4e90-959f-d95b95e5542c",
   "metadata": {},
   "source": [
    "#### 8. (20%) Investigue cuáles variables tienen la mayor correlación (positiva o negativa) con la esperanza de vida. Explique cuáles son las tres variables más importantes e imprima los valores de la correlación. Explique citando alguna fuente si son correlaciones débiles, moderadas o fuertes."
   ]
  },
  {
   "cell_type": "code",
   "execution_count": 49,
   "id": "143fe4bb-4cdf-414b-9b1b-7b449d35ed26",
   "metadata": {},
   "outputs": [
    {
     "data": {
      "text/plain": [
       "Life expectancy                    1.000000\n",
       "Adult Mortality                   -0.779119\n",
       "Alcohol                            0.603775\n",
       "percentage expenditure             0.043964\n",
       "Hepatitis B                        0.420848\n",
       " BMI                               0.516663\n",
       "Polio                              0.515602\n",
       "Total expenditure                 -1.000000\n",
       "Diphtheria                         0.500300\n",
       " HIV/AIDS                         -0.608345\n",
       "GDP                                0.454491\n",
       "Population                        -0.048461\n",
       " thinness  1-19 years             -0.475020\n",
       " thinness 5-9 years               -0.475027\n",
       "Income composition of resources    0.907364\n",
       "Schooling                          0.818159\n",
       "Name: Life expectancy , dtype: float64"
      ]
     },
     "execution_count": 49,
     "metadata": {},
     "output_type": "execute_result"
    }
   ],
   "source": [
    "#Para calcular la correlación entre variables 2015\n",
    "\n",
    "numericColumns = filteredlifeExpectancydata.select_dtypes(include=['float64']).columns #Para solo utilizar las columnas numericas en el calculo\n",
    "correlationMatrix = filteredlifeExpectancydata[numericColumns].corr() #Hace una matriz de correlacion entre las columnas\n",
    "lifeExpCorrelation = correlationMatrix[\"Life expectancy \"] #Para obtener la correlacion de las columnas con respecto a la esperanza de vida\n",
    "lifeExpCorrelation #Imprime la correlación según los datos"
   ]
  },
  {
   "cell_type": "markdown",
   "id": "fdaba6b5-2a52-4b53-bc80-c672b4daa2e9",
   "metadata": {},
   "source": [
    "Según los calculos anteriores:\n",
    "Las variables con mayor correlación positiva a la esperanza de vida es Income composition of resources y Schooling, lo cual significa evolucionan en la misma dirección, es decir, si uno sube, el otro también sube y viceversa.\n",
    "El caso contrario ocurre con Adult Mortality el cual tiene una correlacion negativa, es decir, se mueven en direcciones opuestas, si uno sube, el otro baja y viceversa.\n",
    "\n",
    "También se realiza el cálculo con los datos del 2014 ya que ciertas columnas como el alcohol están vacias, sin embargo, las columnas con las correlaciones mayores se mantienen."
   ]
  },
  {
   "cell_type": "markdown",
   "id": "6b9386e0-e224-4c4b-9c1a-902078f434b4",
   "metadata": {},
   "source": [
    "#### 9. (10%) Utilice diagramas de dispersión para visualizar las relaciones entre estas variables. En total, son 3 diagramas para visualizar las relaciones. Investigue en Google (p.ej., https://en.wikipedia.org/wiki/Scatter_plot)."
   ]
  },
  {
   "cell_type": "code",
   "execution_count": 52,
   "id": "61c769fc-9b6b-42c4-9f3e-47e6acfb44b9",
   "metadata": {},
   "outputs": [
    {
     "data": {
      "image/png": "[encoded data removed]",
      "text/plain": [
       "<Figure size 640x480 with 1 Axes>"
      ]
     },
     "metadata": {},
     "output_type": "display_data"
    }
   ],
   "source": [
    "plt.scatter(filteredlifeExpectancydata['Income composition of resources'], filteredlifeExpectancydata['Life expectancy '])\n",
    "plt.xlabel('Income composition of resources') #Para agregar el label del eje x\n",
    "plt.ylabel('Life expectancy') #Para agregar el label del eje y\n",
    "plt.title('Diagrama de Dispersión de Life expectancy vs Income composition of resources') #Para agregar el titulo\n",
    "plt.show()"
   ]
  },
  {
   "cell_type": "code",
   "execution_count": 53,
   "id": "a4d919ec-5fe5-46ee-90a5-78191e3a088f",
   "metadata": {},
   "outputs": [
    {
     "data": {
      "image/png": "[encoded data removed]",
      "text/plain": [
       "<Figure size 640x480 with 1 Axes>"
      ]
     },
     "metadata": {},
     "output_type": "display_data"
    }
   ],
   "source": [
    "plt.scatter(filteredlifeExpectancydata['Schooling'], filteredlifeExpectancydata['Life expectancy '])\n",
    "plt.xlabel('Schooling') #Para agregar el label del eje x\n",
    "plt.ylabel('Life expectancy') #Para agregar el label del eje y\n",
    "plt.title('Diagrama de Dispersión de Life expectancy vs Schooling') #Para agregar el titulo\n",
    "plt.show()"
   ]
  },
  {
   "cell_type": "code",
   "execution_count": 54,
   "id": "eba7e82d-9fa2-4c03-b726-cbfb93f8a4a1",
   "metadata": {},
   "outputs": [
    {
     "data": {
      "image/png": "[encoded data removed]",
      "text/plain": [
       "<Figure size 640x480 with 1 Axes>"
      ]
     },
     "metadata": {},
     "output_type": "display_data"
    }
   ],
   "source": [
    "plt.scatter(filteredlifeExpectancydata['Adult Mortality'], filteredlifeExpectancydata['Life expectancy '])\n",
    "plt.xlabel('Adult Mortality') #Para agregar el label del eje x\n",
    "plt.ylabel('Life expectancy') #Para agregar el label del eje y\n",
    "plt.title('Diagrama de Dispersión de Life expectancy vs Adult Mortality') #Para agregar el titulo\n",
    "plt.show()"
   ]
  },
  {
   "cell_type": "markdown",
   "id": "07d62962-5612-4875-875d-fde0db9dd5ca",
   "metadata": {},
   "source": [
    "#### 10. (10%) Utilice diagramas de cajas para visualizar la distribución de las variables “esperanza de vida”, “total expenditure” y “schooling”. Investigue en Google cómo hacer esto (p.ej., https://en.wikipedia.org/wiki/Box_plot)."
   ]
  },
  {
   "cell_type": "code",
   "execution_count": 56,
   "id": "3d3125a1-4747-4f32-8e44-49349cd8b57c",
   "metadata": {},
   "outputs": [
    {
     "data": {
      "image/png": "[encoded data removed]",
      "text/plain": [
       "<Figure size 640x480 with 1 Axes>"
      ]
     },
     "metadata": {},
     "output_type": "display_data"
    }
   ],
   "source": [
    "sns.boxplot(data=filteredlifeExpectancydata[['Life expectancy ', 'Total expenditure', 'Schooling']], palette='bright')\n",
    "plt.title('Distribución de variables 2015') #Para agregar el titulo\n",
    "plt.xlabel('Variables') #Para agregar el label del eje x\n",
    "plt.ylabel('Valores') #Para agregar el label del eje y\n",
    "plt.show()"
   ]
  },
  {
   "cell_type": "markdown",
   "id": "9ea08d85-c3ab-48b6-9147-487bae38078d",
   "metadata": {},
   "source": [
    "#### 11. (20%) Usando la base de datos world-cities-database, y algún sitio o servicio web (o biblioteca de Python), cree una función que permita obtener la altitud correspondiente a una ciudad, utilizando la latitud y longitud."
   ]
  },
  {
   "cell_type": "code",
   "execution_count": 58,
   "id": "4efb0ff6-5797-44ef-99d3-cbb76696da5e",
   "metadata": {},
   "outputs": [],
   "source": [
    "import requests\n",
    "def getAltitude(latitude, longitude):\n",
    "    api_url = f\"https://api.open-elevation.com/api/v1/lookup?locations={latitude},{longitude}\"\n",
    "    api_response = requests.get(api_url)\n",
    "    if api_response.status_code == 200:\n",
    "        api_data = api_response.json()\n",
    "        return api_data['results'][0]['elevation']\n",
    "    else:\n",
    "        return None"
   ]
  },
  {
   "cell_type": "markdown",
   "id": "6f1e1438-49a9-422a-8b39-eb48c5c41733",
   "metadata": {},
   "source": [
    "#### 12. (10% extra) Para las ciudades con población mayor a 100,000 habitantes, obtenga la altitud correspondiente y agregue todos estos valores en una nueva columna de la base de datos."
   ]
  },
  {
   "cell_type": "code",
   "execution_count": 60,
   "id": "72741ff3-49d3-4dcb-8797-42d1fe577348",
   "metadata": {},
   "outputs": [],
   "source": [
    "worldCitiesPopulation = worldCitiesData[(worldCitiesData['Population'] > 100000)]\n",
    "#worldCitiesAltitude = worldCitiesPopulation.copy()\n",
    "#worldCitiesAltitude.loc[:, 'Altitude'] = worldCitiesAltitude.apply(lambda x: getAltitude(x['Latitude'], x['Longitude']), axis=1)\n",
    "#worldCitiesAltitude"
   ]
  },
  {
   "cell_type": "code",
   "execution_count": 61,
   "id": "9a8a28e2-8491-4dda-b4be-ffe08acbd82a",
   "metadata": {},
   "outputs": [],
   "source": [
    "#worldCitiesAltitude.to_csv('worldCitiesAltitude.csv', index=False) #para calcularlo solo 1 vez y luego utilizar la base de datos con la altitud\n",
    "#del worldCitiesAltitude #Elimina lo que hay en la variable para liberar el espacio en la memoria"
   ]
  },
  {
   "cell_type": "markdown",
   "id": "41f66ade-3f37-4110-90fa-ad51ec9a35c7",
   "metadata": {},
   "source": [
    "## Inicio del Laboratorio 3"
   ]
  },
  {
   "cell_type": "code",
   "execution_count": 63,
   "id": "b4068c23-c901-4c87-8412-54b1626088cb",
   "metadata": {},
   "outputs": [],
   "source": [
    "from scipy import stats\n",
    "from scipy.stats import shapiro"
   ]
  },
  {
   "cell_type": "code",
   "execution_count": 64,
   "id": "c3eb13d6-6d76-4f22-9fcd-b490e5e171e2",
   "metadata": {},
   "outputs": [],
   "source": [
    "worldCities = worldCitiesData.copy() #Carga la base de datos y lo guarda en una variable\n",
    "countryCodes = pd.read_csv('country code.csv', encoding = \"ISO-8859-1\", na_values=['', 'NULL', 'N/A'], keep_default_na=False) #Carga la base de datos y lo guarda en una variable"
   ]
  },
  {
   "cell_type": "markdown",
   "id": "ab09eab8-8dd1-45a9-b461-6208009e8f68",
   "metadata": {},
   "source": [
    "#### 2. a. (5%) Prepare los datos para separar los conjuntos correspondientes a la zona templada y la zona tropical."
   ]
  },
  {
   "cell_type": "code",
   "execution_count": 66,
   "id": "6702d6a3-1540-4944-9a52-03590a47125f",
   "metadata": {},
   "outputs": [],
   "source": [
    "def getZone(latitude):\n",
    "    if (latitude >= -23.26) & (latitude <= 23.26):\n",
    "        return 'Tropical'\n",
    "    else:\n",
    "        return 'Templada'"
   ]
  },
  {
   "cell_type": "code",
   "execution_count": 67,
   "id": "bfcbe1c7-36d8-445d-a256-824f376068fa",
   "metadata": {},
   "outputs": [],
   "source": [
    "countryCodes['Alpha-2 code lower'] = countryCodes['Alpha-2 code'].str.lower() #Para convertir el 2 code en minusculas\n",
    "# Diccionario de mapeo de nombres para hacer match al unir las dos bases de datos\n",
    "country_mapping = {\n",
    "    \"Tanzania, United Republic of\": \"United Republic of Tanzania\",\n",
    "    \"Timor-Leste\": \"Timor-Leste\",\n",
    "    \"Republic of North Macedonia\": \"The former Yugoslav republic of Macedonia\",\n",
    "    \"Eswatini\": \"Swaziland\",\n",
    "    \"South Sudan\": \"South Sudan\",\n",
    "    \"Moldova (the Republic of)\": \"Republic of Moldova\",\n",
    "    \"S. Korea\": \"Republic of Korea\",\n",
    "    \"Namibia\": \"Namibia\",\n",
    "    \"Iran\": \"Iran (Islamic Republic of)\",\n",
    "    \"Congo (the Democratic Republic of the)\": \"Democratic Republic of the Congo\",\n",
    "    \"N. Korea\": \"Democratic People's Republic of Korea\",\n",
    "    \"Cote d'Ivoire\": \"Côte d'Ivoire\",\n",
    "    \"Bolivia\": \"Bolivia (Plurinational State of)\"  \n",
    "}\n",
    "countryCodes['Country'] = countryCodes['Country'].replace(country_mapping)"
   ]
  },
  {
   "cell_type": "code",
   "execution_count": 68,
   "id": "0453617c-9fe2-4b63-9878-de2fd8e0951d",
   "metadata": {},
   "outputs": [],
   "source": [
    "worldCitiesZones = worldCities.copy() #Para copiar la base original\n",
    "\n",
    "#Para agregar una ciudad de Timor Leste y South Sudan para tener la zona\n",
    "missing_cities = pd.DataFrame({\n",
    "    'Country': ['tl', 'ss'],\n",
    "    'City': ['dili', 'juba'],\n",
    "    'AccentCity': ['Dili', 'Juba'],\n",
    "    'Region': ['NaN', 'NaN'],\n",
    "    'Population': ['NaN', 'NaN'],\n",
    "    'Latitude': [-8.556856, 4.859363],\n",
    "    'Longitude': [125.560310, 31.571251]\n",
    "})\n",
    "\n",
    "worldCitiesZones = pd.concat([worldCitiesZones, missing_cities], ignore_index=True)"
   ]
  },
  {
   "cell_type": "code",
   "execution_count": 69,
   "id": "34f1d112-972b-4fa0-a2e2-4f881d7fd7ad",
   "metadata": {},
   "outputs": [],
   "source": [
    "worldCitiesZones = worldCitiesZones.drop_duplicates(subset=['Country']) #Para mantener solo un dato por país\n",
    "worldCitiesZones.loc[:, 'Zone'] = worldCitiesZones.apply(lambda x: getZone(x['Latitude']), axis=1) #Para agregar la zona por la latitud\n",
    "\n",
    "del worldCities #Elimina lo que hay en la variable para liberar el espacio en la memoria\n",
    "#worldCitiesZones"
   ]
  },
  {
   "cell_type": "code",
   "execution_count": 70,
   "id": "b39c6084-2cf4-49d2-a224-6444ee27dbf6",
   "metadata": {},
   "outputs": [],
   "source": [
    "#Para agregar el nombre del país a la base de datos\n",
    "worldCities = pd.merge(worldCitiesZones, countryCodes[['Country','Alpha-2 code lower']], left_on='Country', right_on='Alpha-2 code lower', how='left')\n",
    "worldCities.drop(columns=['Alpha-2 code lower'], inplace=True) #elimina la nueva columna repetida\n",
    "worldCities.rename(columns={'Country_x': 'Country Code', 'Country_y': 'Country Name'}, inplace=True) #cambia el nombre de las columnas country\n",
    "\n",
    "del worldCitiesZones #Elimina lo que hay en la variable para liberar el espacio en la memoria\n",
    "#worldCities"
   ]
  },
  {
   "cell_type": "code",
   "execution_count": 71,
   "id": "4a1525d4-c9d2-45a5-b579-ce670f27ab8a",
   "metadata": {},
   "outputs": [],
   "source": [
    "lifeExpectancydata = filteredlifeExpectancydata.copy() #Para crear una copia de la base \n",
    "\n",
    "#Para agregar la zona a la base de life expentancy según el nombre del país \n",
    "lifeExpectancydata = pd.merge(lifeExpectancydata, worldCities[['Country Name','Zone']], left_on='Country', right_on='Country Name', how='left')\n",
    "lifeExpectancydata.drop(columns=['Country Name'], inplace=True) #Para eliminar la columna repetida\n",
    "#lifeExpectancydata"
   ]
  },
  {
   "cell_type": "code",
   "execution_count": 72,
   "id": "3193ddb4-6ca2-42f6-9dcf-5cba88d84508",
   "metadata": {},
   "outputs": [
    {
     "data": {
      "text/html": [
       "<div>\n",
       "<style scoped>\n",
       "    .dataframe tbody tr th:only-of-type {\n",
       "        vertical-align: middle;\n",
       "    }\n",
       "\n",
       "    .dataframe tbody tr th {\n",
       "        vertical-align: top;\n",
       "    }\n",
       "\n",
       "    .dataframe thead th {\n",
       "        text-align: right;\n",
       "    }\n",
       "</style>\n",
       "<table border=\"1\" class=\"dataframe\">\n",
       "  <thead>\n",
       "    <tr style=\"text-align: right;\">\n",
       "      <th></th>\n",
       "      <th>Country</th>\n",
       "      <th>Year</th>\n",
       "      <th>Status</th>\n",
       "      <th>Life expectancy</th>\n",
       "      <th>Adult Mortality</th>\n",
       "      <th>infant deaths</th>\n",
       "      <th>Alcohol</th>\n",
       "      <th>percentage expenditure</th>\n",
       "      <th>Hepatitis B</th>\n",
       "      <th>Measles</th>\n",
       "      <th>...</th>\n",
       "      <th>Total expenditure</th>\n",
       "      <th>Diphtheria</th>\n",
       "      <th>HIV/AIDS</th>\n",
       "      <th>GDP</th>\n",
       "      <th>Population</th>\n",
       "      <th>thinness  1-19 years</th>\n",
       "      <th>thinness 5-9 years</th>\n",
       "      <th>Income composition of resources</th>\n",
       "      <th>Schooling</th>\n",
       "      <th>Zone</th>\n",
       "    </tr>\n",
       "  </thead>\n",
       "  <tbody>\n",
       "    <tr>\n",
       "      <th>0</th>\n",
       "      <td>Afghanistan</td>\n",
       "      <td>2015</td>\n",
       "      <td>Developing</td>\n",
       "      <td>65.0</td>\n",
       "      <td>263.0</td>\n",
       "      <td>62</td>\n",
       "      <td>0.01</td>\n",
       "      <td>71.279624</td>\n",
       "      <td>65.0</td>\n",
       "      <td>1154</td>\n",
       "      <td>...</td>\n",
       "      <td>8.16</td>\n",
       "      <td>65.0</td>\n",
       "      <td>0.1</td>\n",
       "      <td>584.259210</td>\n",
       "      <td>33736494.0</td>\n",
       "      <td>17.2</td>\n",
       "      <td>17.3</td>\n",
       "      <td>0.479</td>\n",
       "      <td>10.1</td>\n",
       "      <td>Templada</td>\n",
       "    </tr>\n",
       "    <tr>\n",
       "      <th>1</th>\n",
       "      <td>Albania</td>\n",
       "      <td>2015</td>\n",
       "      <td>Developing</td>\n",
       "      <td>77.8</td>\n",
       "      <td>74.0</td>\n",
       "      <td>0</td>\n",
       "      <td>4.60</td>\n",
       "      <td>364.975229</td>\n",
       "      <td>99.0</td>\n",
       "      <td>0</td>\n",
       "      <td>...</td>\n",
       "      <td>6.00</td>\n",
       "      <td>99.0</td>\n",
       "      <td>0.1</td>\n",
       "      <td>3954.227830</td>\n",
       "      <td>28873.0</td>\n",
       "      <td>1.2</td>\n",
       "      <td>1.3</td>\n",
       "      <td>0.762</td>\n",
       "      <td>14.2</td>\n",
       "      <td>Templada</td>\n",
       "    </tr>\n",
       "    <tr>\n",
       "      <th>2</th>\n",
       "      <td>Algeria</td>\n",
       "      <td>2015</td>\n",
       "      <td>Developing</td>\n",
       "      <td>75.6</td>\n",
       "      <td>19.0</td>\n",
       "      <td>21</td>\n",
       "      <td>NaN</td>\n",
       "      <td>0.000000</td>\n",
       "      <td>95.0</td>\n",
       "      <td>63</td>\n",
       "      <td>...</td>\n",
       "      <td>7.21</td>\n",
       "      <td>95.0</td>\n",
       "      <td>0.1</td>\n",
       "      <td>4132.762920</td>\n",
       "      <td>39871528.0</td>\n",
       "      <td>6.0</td>\n",
       "      <td>5.8</td>\n",
       "      <td>0.743</td>\n",
       "      <td>14.4</td>\n",
       "      <td>Templada</td>\n",
       "    </tr>\n",
       "    <tr>\n",
       "      <th>3</th>\n",
       "      <td>Angola</td>\n",
       "      <td>2015</td>\n",
       "      <td>Developing</td>\n",
       "      <td>52.4</td>\n",
       "      <td>335.0</td>\n",
       "      <td>66</td>\n",
       "      <td>NaN</td>\n",
       "      <td>0.000000</td>\n",
       "      <td>64.0</td>\n",
       "      <td>118</td>\n",
       "      <td>...</td>\n",
       "      <td>3.31</td>\n",
       "      <td>64.0</td>\n",
       "      <td>1.9</td>\n",
       "      <td>3695.793748</td>\n",
       "      <td>2785935.0</td>\n",
       "      <td>8.3</td>\n",
       "      <td>8.2</td>\n",
       "      <td>0.531</td>\n",
       "      <td>11.4</td>\n",
       "      <td>Tropical</td>\n",
       "    </tr>\n",
       "    <tr>\n",
       "      <th>4</th>\n",
       "      <td>Antigua and Barbuda</td>\n",
       "      <td>2015</td>\n",
       "      <td>Developing</td>\n",
       "      <td>76.4</td>\n",
       "      <td>13.0</td>\n",
       "      <td>0</td>\n",
       "      <td>NaN</td>\n",
       "      <td>0.000000</td>\n",
       "      <td>99.0</td>\n",
       "      <td>0</td>\n",
       "      <td>...</td>\n",
       "      <td>5.54</td>\n",
       "      <td>99.0</td>\n",
       "      <td>0.2</td>\n",
       "      <td>13566.954100</td>\n",
       "      <td>NaN</td>\n",
       "      <td>3.3</td>\n",
       "      <td>3.3</td>\n",
       "      <td>0.784</td>\n",
       "      <td>13.9</td>\n",
       "      <td>Tropical</td>\n",
       "    </tr>\n",
       "    <tr>\n",
       "      <th>...</th>\n",
       "      <td>...</td>\n",
       "      <td>...</td>\n",
       "      <td>...</td>\n",
       "      <td>...</td>\n",
       "      <td>...</td>\n",
       "      <td>...</td>\n",
       "      <td>...</td>\n",
       "      <td>...</td>\n",
       "      <td>...</td>\n",
       "      <td>...</td>\n",
       "      <td>...</td>\n",
       "      <td>...</td>\n",
       "      <td>...</td>\n",
       "      <td>...</td>\n",
       "      <td>...</td>\n",
       "      <td>...</td>\n",
       "      <td>...</td>\n",
       "      <td>...</td>\n",
       "      <td>...</td>\n",
       "      <td>...</td>\n",
       "      <td>...</td>\n",
       "    </tr>\n",
       "    <tr>\n",
       "      <th>178</th>\n",
       "      <td>Venezuela (Bolivarian Republic of)</td>\n",
       "      <td>2015</td>\n",
       "      <td>Developing</td>\n",
       "      <td>74.1</td>\n",
       "      <td>157.0</td>\n",
       "      <td>9</td>\n",
       "      <td>NaN</td>\n",
       "      <td>0.000000</td>\n",
       "      <td>87.0</td>\n",
       "      <td>0</td>\n",
       "      <td>...</td>\n",
       "      <td>5.26</td>\n",
       "      <td>87.0</td>\n",
       "      <td>0.1</td>\n",
       "      <td>NaN</td>\n",
       "      <td>NaN</td>\n",
       "      <td>1.6</td>\n",
       "      <td>1.5</td>\n",
       "      <td>0.769</td>\n",
       "      <td>14.3</td>\n",
       "      <td>Tropical</td>\n",
       "    </tr>\n",
       "    <tr>\n",
       "      <th>179</th>\n",
       "      <td>Viet Nam</td>\n",
       "      <td>2015</td>\n",
       "      <td>Developing</td>\n",
       "      <td>76.0</td>\n",
       "      <td>127.0</td>\n",
       "      <td>28</td>\n",
       "      <td>NaN</td>\n",
       "      <td>0.000000</td>\n",
       "      <td>97.0</td>\n",
       "      <td>256</td>\n",
       "      <td>...</td>\n",
       "      <td>7.70</td>\n",
       "      <td>97.0</td>\n",
       "      <td>0.1</td>\n",
       "      <td>NaN</td>\n",
       "      <td>NaN</td>\n",
       "      <td>14.2</td>\n",
       "      <td>14.5</td>\n",
       "      <td>0.678</td>\n",
       "      <td>12.6</td>\n",
       "      <td>Tropical</td>\n",
       "    </tr>\n",
       "    <tr>\n",
       "      <th>180</th>\n",
       "      <td>Yemen</td>\n",
       "      <td>2015</td>\n",
       "      <td>Developing</td>\n",
       "      <td>65.7</td>\n",
       "      <td>224.0</td>\n",
       "      <td>37</td>\n",
       "      <td>NaN</td>\n",
       "      <td>0.000000</td>\n",
       "      <td>69.0</td>\n",
       "      <td>468</td>\n",
       "      <td>...</td>\n",
       "      <td>5.64</td>\n",
       "      <td>69.0</td>\n",
       "      <td>0.1</td>\n",
       "      <td>NaN</td>\n",
       "      <td>NaN</td>\n",
       "      <td>13.6</td>\n",
       "      <td>13.4</td>\n",
       "      <td>0.499</td>\n",
       "      <td>9.0</td>\n",
       "      <td>Tropical</td>\n",
       "    </tr>\n",
       "    <tr>\n",
       "      <th>181</th>\n",
       "      <td>Zambia</td>\n",
       "      <td>2015</td>\n",
       "      <td>Developing</td>\n",
       "      <td>61.8</td>\n",
       "      <td>33.0</td>\n",
       "      <td>27</td>\n",
       "      <td>NaN</td>\n",
       "      <td>0.000000</td>\n",
       "      <td>9.0</td>\n",
       "      <td>9</td>\n",
       "      <td>...</td>\n",
       "      <td>4.99</td>\n",
       "      <td>9.0</td>\n",
       "      <td>4.1</td>\n",
       "      <td>1313.889646</td>\n",
       "      <td>161587.0</td>\n",
       "      <td>6.3</td>\n",
       "      <td>6.1</td>\n",
       "      <td>0.576</td>\n",
       "      <td>12.5</td>\n",
       "      <td>Tropical</td>\n",
       "    </tr>\n",
       "    <tr>\n",
       "      <th>182</th>\n",
       "      <td>Zimbabwe</td>\n",
       "      <td>2015</td>\n",
       "      <td>Developing</td>\n",
       "      <td>67.0</td>\n",
       "      <td>336.0</td>\n",
       "      <td>22</td>\n",
       "      <td>NaN</td>\n",
       "      <td>0.000000</td>\n",
       "      <td>87.0</td>\n",
       "      <td>0</td>\n",
       "      <td>...</td>\n",
       "      <td>6.44</td>\n",
       "      <td>87.0</td>\n",
       "      <td>6.2</td>\n",
       "      <td>118.693830</td>\n",
       "      <td>15777451.0</td>\n",
       "      <td>5.6</td>\n",
       "      <td>5.5</td>\n",
       "      <td>0.507</td>\n",
       "      <td>10.3</td>\n",
       "      <td>Tropical</td>\n",
       "    </tr>\n",
       "  </tbody>\n",
       "</table>\n",
       "<p>183 rows × 23 columns</p>\n",
       "</div>"
      ],
      "text/plain": [
       "                                Country  Year      Status  Life expectancy   \\\n",
       "0                           Afghanistan  2015  Developing              65.0   \n",
       "1                               Albania  2015  Developing              77.8   \n",
       "2                               Algeria  2015  Developing              75.6   \n",
       "3                                Angola  2015  Developing              52.4   \n",
       "4                   Antigua and Barbuda  2015  Developing              76.4   \n",
       "..                                  ...   ...         ...               ...   \n",
       "178  Venezuela (Bolivarian Republic of)  2015  Developing              74.1   \n",
       "179                            Viet Nam  2015  Developing              76.0   \n",
       "180                               Yemen  2015  Developing              65.7   \n",
       "181                              Zambia  2015  Developing              61.8   \n",
       "182                            Zimbabwe  2015  Developing              67.0   \n",
       "\n",
       "     Adult Mortality  infant deaths  Alcohol  percentage expenditure  \\\n",
       "0              263.0             62     0.01               71.279624   \n",
       "1               74.0              0     4.60              364.975229   \n",
       "2               19.0             21      NaN                0.000000   \n",
       "3              335.0             66      NaN                0.000000   \n",
       "4               13.0              0      NaN                0.000000   \n",
       "..               ...            ...      ...                     ...   \n",
       "178            157.0              9      NaN                0.000000   \n",
       "179            127.0             28      NaN                0.000000   \n",
       "180            224.0             37      NaN                0.000000   \n",
       "181             33.0             27      NaN                0.000000   \n",
       "182            336.0             22      NaN                0.000000   \n",
       "\n",
       "     Hepatitis B  Measles   ...  Total expenditure  Diphtheria    HIV/AIDS  \\\n",
       "0           65.0      1154  ...               8.16         65.0        0.1   \n",
       "1           99.0         0  ...               6.00         99.0        0.1   \n",
       "2           95.0        63  ...               7.21         95.0        0.1   \n",
       "3           64.0       118  ...               3.31         64.0        1.9   \n",
       "4           99.0         0  ...               5.54         99.0        0.2   \n",
       "..           ...       ...  ...                ...          ...        ...   \n",
       "178         87.0         0  ...               5.26         87.0        0.1   \n",
       "179         97.0       256  ...               7.70         97.0        0.1   \n",
       "180         69.0       468  ...               5.64         69.0        0.1   \n",
       "181          9.0         9  ...               4.99          9.0        4.1   \n",
       "182         87.0         0  ...               6.44         87.0        6.2   \n",
       "\n",
       "              GDP  Population   thinness  1-19 years   thinness 5-9 years  \\\n",
       "0      584.259210  33736494.0                   17.2                 17.3   \n",
       "1     3954.227830     28873.0                    1.2                  1.3   \n",
       "2     4132.762920  39871528.0                    6.0                  5.8   \n",
       "3     3695.793748   2785935.0                    8.3                  8.2   \n",
       "4    13566.954100         NaN                    3.3                  3.3   \n",
       "..            ...         ...                    ...                  ...   \n",
       "178           NaN         NaN                    1.6                  1.5   \n",
       "179           NaN         NaN                   14.2                 14.5   \n",
       "180           NaN         NaN                   13.6                 13.4   \n",
       "181   1313.889646    161587.0                    6.3                  6.1   \n",
       "182    118.693830  15777451.0                    5.6                  5.5   \n",
       "\n",
       "     Income composition of resources  Schooling      Zone  \n",
       "0                              0.479       10.1  Templada  \n",
       "1                              0.762       14.2  Templada  \n",
       "2                              0.743       14.4  Templada  \n",
       "3                              0.531       11.4  Tropical  \n",
       "4                              0.784       13.9  Tropical  \n",
       "..                               ...        ...       ...  \n",
       "178                            0.769       14.3  Tropical  \n",
       "179                            0.678       12.6  Tropical  \n",
       "180                            0.499        9.0  Tropical  \n",
       "181                            0.576       12.5  Tropical  \n",
       "182                            0.507       10.3  Tropical  \n",
       "\n",
       "[183 rows x 23 columns]"
      ]
     },
     "execution_count": 72,
     "metadata": {},
     "output_type": "execute_result"
    }
   ],
   "source": [
    "# Realizar el merge de los DataFrames para poder tener valores en Total expenditure del 2015, utilizando los valores del 2014\n",
    "mergedLifeExpectancydata = pd.merge(lifeExpectancydata, lifeExpectancydata2014[['Country', 'Total expenditure']], on='Country', suffixes=('', '_2014'))\n",
    "\n",
    "mergedLifeExpectancydata.loc[mergedLifeExpectancydata['Total expenditure'].isna(), 'Total expenditure'] = mergedLifeExpectancydata['Total expenditure_2014']\n",
    "mergedLifeExpectancydata.drop(columns=['Total expenditure_2014'], inplace=True) #elimina la nueva columna\n",
    "mergedLifeExpectancydata"
   ]
  },
  {
   "cell_type": "code",
   "execution_count": 73,
   "id": "6b164600-f419-4b96-9c8e-889219a028c9",
   "metadata": {},
   "outputs": [],
   "source": [
    "lifeExpectancyTropical = mergedLifeExpectancydata[(lifeExpectancydata['Zone'] == 'Tropical')]\n",
    "lifeExpectancyTemplada = mergedLifeExpectancydata[(lifeExpectancydata['Zone'] == 'Templada')]"
   ]
  },
  {
   "cell_type": "code",
   "execution_count": 74,
   "id": "37d95154-425d-455b-be7c-c2e21b4525e6",
   "metadata": {},
   "outputs": [
    {
     "data": {
      "text/html": [
       "<div>\n",
       "<style scoped>\n",
       "    .dataframe tbody tr th:only-of-type {\n",
       "        vertical-align: middle;\n",
       "    }\n",
       "\n",
       "    .dataframe tbody tr th {\n",
       "        vertical-align: top;\n",
       "    }\n",
       "\n",
       "    .dataframe thead th {\n",
       "        text-align: right;\n",
       "    }\n",
       "</style>\n",
       "<table border=\"1\" class=\"dataframe\">\n",
       "  <thead>\n",
       "    <tr style=\"text-align: right;\">\n",
       "      <th></th>\n",
       "      <th>Country</th>\n",
       "      <th>Year</th>\n",
       "      <th>Status</th>\n",
       "      <th>Life expectancy</th>\n",
       "      <th>Adult Mortality</th>\n",
       "      <th>infant deaths</th>\n",
       "      <th>Alcohol</th>\n",
       "      <th>percentage expenditure</th>\n",
       "      <th>Hepatitis B</th>\n",
       "      <th>Measles</th>\n",
       "      <th>...</th>\n",
       "      <th>Total expenditure</th>\n",
       "      <th>Diphtheria</th>\n",
       "      <th>HIV/AIDS</th>\n",
       "      <th>GDP</th>\n",
       "      <th>Population</th>\n",
       "      <th>thinness  1-19 years</th>\n",
       "      <th>thinness 5-9 years</th>\n",
       "      <th>Income composition of resources</th>\n",
       "      <th>Schooling</th>\n",
       "      <th>Zone</th>\n",
       "    </tr>\n",
       "  </thead>\n",
       "  <tbody>\n",
       "    <tr>\n",
       "      <th>0</th>\n",
       "      <td>Afghanistan</td>\n",
       "      <td>2015</td>\n",
       "      <td>Developing</td>\n",
       "      <td>65.0</td>\n",
       "      <td>263.0</td>\n",
       "      <td>62</td>\n",
       "      <td>0.01</td>\n",
       "      <td>71.279624</td>\n",
       "      <td>65.0</td>\n",
       "      <td>1154</td>\n",
       "      <td>...</td>\n",
       "      <td>8.16</td>\n",
       "      <td>65.0</td>\n",
       "      <td>0.1</td>\n",
       "      <td>584.259210</td>\n",
       "      <td>33736494.0</td>\n",
       "      <td>17.2</td>\n",
       "      <td>17.3</td>\n",
       "      <td>0.479</td>\n",
       "      <td>10.1</td>\n",
       "      <td>Templada</td>\n",
       "    </tr>\n",
       "    <tr>\n",
       "      <th>1</th>\n",
       "      <td>Albania</td>\n",
       "      <td>2015</td>\n",
       "      <td>Developing</td>\n",
       "      <td>77.8</td>\n",
       "      <td>74.0</td>\n",
       "      <td>0</td>\n",
       "      <td>4.60</td>\n",
       "      <td>364.975229</td>\n",
       "      <td>99.0</td>\n",
       "      <td>0</td>\n",
       "      <td>...</td>\n",
       "      <td>6.00</td>\n",
       "      <td>99.0</td>\n",
       "      <td>0.1</td>\n",
       "      <td>3954.227830</td>\n",
       "      <td>28873.0</td>\n",
       "      <td>1.2</td>\n",
       "      <td>1.3</td>\n",
       "      <td>0.762</td>\n",
       "      <td>14.2</td>\n",
       "      <td>Templada</td>\n",
       "    </tr>\n",
       "    <tr>\n",
       "      <th>2</th>\n",
       "      <td>Algeria</td>\n",
       "      <td>2015</td>\n",
       "      <td>Developing</td>\n",
       "      <td>75.6</td>\n",
       "      <td>19.0</td>\n",
       "      <td>21</td>\n",
       "      <td>NaN</td>\n",
       "      <td>0.000000</td>\n",
       "      <td>95.0</td>\n",
       "      <td>63</td>\n",
       "      <td>...</td>\n",
       "      <td>7.21</td>\n",
       "      <td>95.0</td>\n",
       "      <td>0.1</td>\n",
       "      <td>4132.762920</td>\n",
       "      <td>39871528.0</td>\n",
       "      <td>6.0</td>\n",
       "      <td>5.8</td>\n",
       "      <td>0.743</td>\n",
       "      <td>14.4</td>\n",
       "      <td>Templada</td>\n",
       "    </tr>\n",
       "    <tr>\n",
       "      <th>5</th>\n",
       "      <td>Argentina</td>\n",
       "      <td>2015</td>\n",
       "      <td>Developing</td>\n",
       "      <td>76.3</td>\n",
       "      <td>116.0</td>\n",
       "      <td>8</td>\n",
       "      <td>NaN</td>\n",
       "      <td>0.000000</td>\n",
       "      <td>94.0</td>\n",
       "      <td>0</td>\n",
       "      <td>...</td>\n",
       "      <td>4.79</td>\n",
       "      <td>94.0</td>\n",
       "      <td>0.1</td>\n",
       "      <td>13467.123600</td>\n",
       "      <td>43417765.0</td>\n",
       "      <td>1.0</td>\n",
       "      <td>0.9</td>\n",
       "      <td>0.826</td>\n",
       "      <td>17.3</td>\n",
       "      <td>Templada</td>\n",
       "    </tr>\n",
       "    <tr>\n",
       "      <th>6</th>\n",
       "      <td>Armenia</td>\n",
       "      <td>2015</td>\n",
       "      <td>Developing</td>\n",
       "      <td>74.8</td>\n",
       "      <td>118.0</td>\n",
       "      <td>1</td>\n",
       "      <td>NaN</td>\n",
       "      <td>0.000000</td>\n",
       "      <td>94.0</td>\n",
       "      <td>33</td>\n",
       "      <td>...</td>\n",
       "      <td>4.48</td>\n",
       "      <td>94.0</td>\n",
       "      <td>0.1</td>\n",
       "      <td>369.654776</td>\n",
       "      <td>291695.0</td>\n",
       "      <td>2.1</td>\n",
       "      <td>2.2</td>\n",
       "      <td>0.741</td>\n",
       "      <td>12.7</td>\n",
       "      <td>Templada</td>\n",
       "    </tr>\n",
       "    <tr>\n",
       "      <th>...</th>\n",
       "      <td>...</td>\n",
       "      <td>...</td>\n",
       "      <td>...</td>\n",
       "      <td>...</td>\n",
       "      <td>...</td>\n",
       "      <td>...</td>\n",
       "      <td>...</td>\n",
       "      <td>...</td>\n",
       "      <td>...</td>\n",
       "      <td>...</td>\n",
       "      <td>...</td>\n",
       "      <td>...</td>\n",
       "      <td>...</td>\n",
       "      <td>...</td>\n",
       "      <td>...</td>\n",
       "      <td>...</td>\n",
       "      <td>...</td>\n",
       "      <td>...</td>\n",
       "      <td>...</td>\n",
       "      <td>...</td>\n",
       "      <td>...</td>\n",
       "    </tr>\n",
       "    <tr>\n",
       "      <th>171</th>\n",
       "      <td>United Arab Emirates</td>\n",
       "      <td>2015</td>\n",
       "      <td>Developing</td>\n",
       "      <td>77.1</td>\n",
       "      <td>75.0</td>\n",
       "      <td>1</td>\n",
       "      <td>NaN</td>\n",
       "      <td>0.000000</td>\n",
       "      <td>99.0</td>\n",
       "      <td>347</td>\n",
       "      <td>...</td>\n",
       "      <td>3.64</td>\n",
       "      <td>99.0</td>\n",
       "      <td>0.1</td>\n",
       "      <td>3911.746890</td>\n",
       "      <td>NaN</td>\n",
       "      <td>5.3</td>\n",
       "      <td>5.1</td>\n",
       "      <td>0.836</td>\n",
       "      <td>13.3</td>\n",
       "      <td>Templada</td>\n",
       "    </tr>\n",
       "    <tr>\n",
       "      <th>172</th>\n",
       "      <td>United Kingdom of Great Britain and Northern I...</td>\n",
       "      <td>2015</td>\n",
       "      <td>Developed</td>\n",
       "      <td>81.2</td>\n",
       "      <td>69.0</td>\n",
       "      <td>3</td>\n",
       "      <td>10.66</td>\n",
       "      <td>0.000000</td>\n",
       "      <td>NaN</td>\n",
       "      <td>91</td>\n",
       "      <td>...</td>\n",
       "      <td>9.12</td>\n",
       "      <td>96.0</td>\n",
       "      <td>0.1</td>\n",
       "      <td>NaN</td>\n",
       "      <td>NaN</td>\n",
       "      <td>0.8</td>\n",
       "      <td>0.6</td>\n",
       "      <td>NaN</td>\n",
       "      <td>NaN</td>\n",
       "      <td>Templada</td>\n",
       "    </tr>\n",
       "    <tr>\n",
       "      <th>174</th>\n",
       "      <td>United States of America</td>\n",
       "      <td>2015</td>\n",
       "      <td>Developed</td>\n",
       "      <td>79.3</td>\n",
       "      <td>13.0</td>\n",
       "      <td>23</td>\n",
       "      <td>NaN</td>\n",
       "      <td>0.000000</td>\n",
       "      <td>92.0</td>\n",
       "      <td>188</td>\n",
       "      <td>...</td>\n",
       "      <td>17.14</td>\n",
       "      <td>95.0</td>\n",
       "      <td>0.1</td>\n",
       "      <td>NaN</td>\n",
       "      <td>NaN</td>\n",
       "      <td>0.8</td>\n",
       "      <td>0.6</td>\n",
       "      <td>NaN</td>\n",
       "      <td>NaN</td>\n",
       "      <td>Templada</td>\n",
       "    </tr>\n",
       "    <tr>\n",
       "      <th>175</th>\n",
       "      <td>Uruguay</td>\n",
       "      <td>2015</td>\n",
       "      <td>Developing</td>\n",
       "      <td>77.0</td>\n",
       "      <td>116.0</td>\n",
       "      <td>0</td>\n",
       "      <td>NaN</td>\n",
       "      <td>0.000000</td>\n",
       "      <td>95.0</td>\n",
       "      <td>0</td>\n",
       "      <td>...</td>\n",
       "      <td>8.58</td>\n",
       "      <td>95.0</td>\n",
       "      <td>0.1</td>\n",
       "      <td>15524.842470</td>\n",
       "      <td>3431552.0</td>\n",
       "      <td>1.5</td>\n",
       "      <td>1.4</td>\n",
       "      <td>0.794</td>\n",
       "      <td>15.5</td>\n",
       "      <td>Templada</td>\n",
       "    </tr>\n",
       "    <tr>\n",
       "      <th>176</th>\n",
       "      <td>Uzbekistan</td>\n",
       "      <td>2015</td>\n",
       "      <td>Developing</td>\n",
       "      <td>69.4</td>\n",
       "      <td>184.0</td>\n",
       "      <td>15</td>\n",
       "      <td>NaN</td>\n",
       "      <td>0.000000</td>\n",
       "      <td>99.0</td>\n",
       "      <td>22</td>\n",
       "      <td>...</td>\n",
       "      <td>5.84</td>\n",
       "      <td>99.0</td>\n",
       "      <td>0.1</td>\n",
       "      <td>2137.576852</td>\n",
       "      <td>312989.0</td>\n",
       "      <td>3.0</td>\n",
       "      <td>3.1</td>\n",
       "      <td>0.697</td>\n",
       "      <td>12.1</td>\n",
       "      <td>Templada</td>\n",
       "    </tr>\n",
       "  </tbody>\n",
       "</table>\n",
       "<p>89 rows × 23 columns</p>\n",
       "</div>"
      ],
      "text/plain": [
       "                                               Country  Year      Status  \\\n",
       "0                                          Afghanistan  2015  Developing   \n",
       "1                                              Albania  2015  Developing   \n",
       "2                                              Algeria  2015  Developing   \n",
       "5                                            Argentina  2015  Developing   \n",
       "6                                              Armenia  2015  Developing   \n",
       "..                                                 ...   ...         ...   \n",
       "171                               United Arab Emirates  2015  Developing   \n",
       "172  United Kingdom of Great Britain and Northern I...  2015   Developed   \n",
       "174                           United States of America  2015   Developed   \n",
       "175                                            Uruguay  2015  Developing   \n",
       "176                                         Uzbekistan  2015  Developing   \n",
       "\n",
       "     Life expectancy   Adult Mortality  infant deaths  Alcohol  \\\n",
       "0                65.0            263.0             62     0.01   \n",
       "1                77.8             74.0              0     4.60   \n",
       "2                75.6             19.0             21      NaN   \n",
       "5                76.3            116.0              8      NaN   \n",
       "6                74.8            118.0              1      NaN   \n",
       "..                ...              ...            ...      ...   \n",
       "171              77.1             75.0              1      NaN   \n",
       "172              81.2             69.0              3    10.66   \n",
       "174              79.3             13.0             23      NaN   \n",
       "175              77.0            116.0              0      NaN   \n",
       "176              69.4            184.0             15      NaN   \n",
       "\n",
       "     percentage expenditure  Hepatitis B  Measles   ...  Total expenditure  \\\n",
       "0                 71.279624         65.0      1154  ...               8.16   \n",
       "1                364.975229         99.0         0  ...               6.00   \n",
       "2                  0.000000         95.0        63  ...               7.21   \n",
       "5                  0.000000         94.0         0  ...               4.79   \n",
       "6                  0.000000         94.0        33  ...               4.48   \n",
       "..                      ...          ...       ...  ...                ...   \n",
       "171                0.000000         99.0       347  ...               3.64   \n",
       "172                0.000000          NaN        91  ...               9.12   \n",
       "174                0.000000         92.0       188  ...              17.14   \n",
       "175                0.000000         95.0         0  ...               8.58   \n",
       "176                0.000000         99.0        22  ...               5.84   \n",
       "\n",
       "     Diphtheria    HIV/AIDS           GDP  Population   thinness  1-19 years  \\\n",
       "0           65.0        0.1    584.259210  33736494.0                   17.2   \n",
       "1           99.0        0.1   3954.227830     28873.0                    1.2   \n",
       "2           95.0        0.1   4132.762920  39871528.0                    6.0   \n",
       "5           94.0        0.1  13467.123600  43417765.0                    1.0   \n",
       "6           94.0        0.1    369.654776    291695.0                    2.1   \n",
       "..           ...        ...           ...         ...                    ...   \n",
       "171         99.0        0.1   3911.746890         NaN                    5.3   \n",
       "172         96.0        0.1           NaN         NaN                    0.8   \n",
       "174         95.0        0.1           NaN         NaN                    0.8   \n",
       "175         95.0        0.1  15524.842470   3431552.0                    1.5   \n",
       "176         99.0        0.1   2137.576852    312989.0                    3.0   \n",
       "\n",
       "      thinness 5-9 years  Income composition of resources  Schooling      Zone  \n",
       "0                   17.3                            0.479       10.1  Templada  \n",
       "1                    1.3                            0.762       14.2  Templada  \n",
       "2                    5.8                            0.743       14.4  Templada  \n",
       "5                    0.9                            0.826       17.3  Templada  \n",
       "6                    2.2                            0.741       12.7  Templada  \n",
       "..                   ...                              ...        ...       ...  \n",
       "171                  5.1                            0.836       13.3  Templada  \n",
       "172                  0.6                              NaN        NaN  Templada  \n",
       "174                  0.6                              NaN        NaN  Templada  \n",
       "175                  1.4                            0.794       15.5  Templada  \n",
       "176                  3.1                            0.697       12.1  Templada  \n",
       "\n",
       "[89 rows x 23 columns]"
      ]
     },
     "execution_count": 74,
     "metadata": {},
     "output_type": "execute_result"
    }
   ],
   "source": [
    "lifeExpectancyTemplada"
   ]
  },
  {
   "cell_type": "code",
   "execution_count": 75,
   "id": "95dbf003-d964-42d7-9687-37f423dc4fb4",
   "metadata": {},
   "outputs": [
    {
     "data": {
      "text/html": [
       "<div>\n",
       "<style scoped>\n",
       "    .dataframe tbody tr th:only-of-type {\n",
       "        vertical-align: middle;\n",
       "    }\n",
       "\n",
       "    .dataframe tbody tr th {\n",
       "        vertical-align: top;\n",
       "    }\n",
       "\n",
       "    .dataframe thead th {\n",
       "        text-align: right;\n",
       "    }\n",
       "</style>\n",
       "<table border=\"1\" class=\"dataframe\">\n",
       "  <thead>\n",
       "    <tr style=\"text-align: right;\">\n",
       "      <th></th>\n",
       "      <th>Country</th>\n",
       "      <th>Year</th>\n",
       "      <th>Status</th>\n",
       "      <th>Life expectancy</th>\n",
       "      <th>Adult Mortality</th>\n",
       "      <th>infant deaths</th>\n",
       "      <th>Alcohol</th>\n",
       "      <th>percentage expenditure</th>\n",
       "      <th>Hepatitis B</th>\n",
       "      <th>Measles</th>\n",
       "      <th>...</th>\n",
       "      <th>Total expenditure</th>\n",
       "      <th>Diphtheria</th>\n",
       "      <th>HIV/AIDS</th>\n",
       "      <th>GDP</th>\n",
       "      <th>Population</th>\n",
       "      <th>thinness  1-19 years</th>\n",
       "      <th>thinness 5-9 years</th>\n",
       "      <th>Income composition of resources</th>\n",
       "      <th>Schooling</th>\n",
       "      <th>Zone</th>\n",
       "    </tr>\n",
       "  </thead>\n",
       "  <tbody>\n",
       "    <tr>\n",
       "      <th>3</th>\n",
       "      <td>Angola</td>\n",
       "      <td>2015</td>\n",
       "      <td>Developing</td>\n",
       "      <td>52.4</td>\n",
       "      <td>335.0</td>\n",
       "      <td>66</td>\n",
       "      <td>NaN</td>\n",
       "      <td>0.0</td>\n",
       "      <td>64.0</td>\n",
       "      <td>118</td>\n",
       "      <td>...</td>\n",
       "      <td>3.31</td>\n",
       "      <td>64.0</td>\n",
       "      <td>1.9</td>\n",
       "      <td>3695.793748</td>\n",
       "      <td>2785935.0</td>\n",
       "      <td>8.3</td>\n",
       "      <td>8.2</td>\n",
       "      <td>0.531</td>\n",
       "      <td>11.4</td>\n",
       "      <td>Tropical</td>\n",
       "    </tr>\n",
       "    <tr>\n",
       "      <th>4</th>\n",
       "      <td>Antigua and Barbuda</td>\n",
       "      <td>2015</td>\n",
       "      <td>Developing</td>\n",
       "      <td>76.4</td>\n",
       "      <td>13.0</td>\n",
       "      <td>0</td>\n",
       "      <td>NaN</td>\n",
       "      <td>0.0</td>\n",
       "      <td>99.0</td>\n",
       "      <td>0</td>\n",
       "      <td>...</td>\n",
       "      <td>5.54</td>\n",
       "      <td>99.0</td>\n",
       "      <td>0.2</td>\n",
       "      <td>13566.954100</td>\n",
       "      <td>NaN</td>\n",
       "      <td>3.3</td>\n",
       "      <td>3.3</td>\n",
       "      <td>0.784</td>\n",
       "      <td>13.9</td>\n",
       "      <td>Tropical</td>\n",
       "    </tr>\n",
       "    <tr>\n",
       "      <th>10</th>\n",
       "      <td>Bahamas</td>\n",
       "      <td>2015</td>\n",
       "      <td>Developing</td>\n",
       "      <td>76.1</td>\n",
       "      <td>147.0</td>\n",
       "      <td>0</td>\n",
       "      <td>NaN</td>\n",
       "      <td>0.0</td>\n",
       "      <td>95.0</td>\n",
       "      <td>0</td>\n",
       "      <td>...</td>\n",
       "      <td>7.74</td>\n",
       "      <td>95.0</td>\n",
       "      <td>0.1</td>\n",
       "      <td>NaN</td>\n",
       "      <td>NaN</td>\n",
       "      <td>2.5</td>\n",
       "      <td>2.5</td>\n",
       "      <td>0.790</td>\n",
       "      <td>12.6</td>\n",
       "      <td>Tropical</td>\n",
       "    </tr>\n",
       "    <tr>\n",
       "      <th>12</th>\n",
       "      <td>Bangladesh</td>\n",
       "      <td>2015</td>\n",
       "      <td>Developing</td>\n",
       "      <td>71.8</td>\n",
       "      <td>129.0</td>\n",
       "      <td>92</td>\n",
       "      <td>NaN</td>\n",
       "      <td>0.0</td>\n",
       "      <td>97.0</td>\n",
       "      <td>240</td>\n",
       "      <td>...</td>\n",
       "      <td>2.82</td>\n",
       "      <td>97.0</td>\n",
       "      <td>0.1</td>\n",
       "      <td>121.158120</td>\n",
       "      <td>1612886.0</td>\n",
       "      <td>17.9</td>\n",
       "      <td>18.3</td>\n",
       "      <td>0.575</td>\n",
       "      <td>10.2</td>\n",
       "      <td>Tropical</td>\n",
       "    </tr>\n",
       "    <tr>\n",
       "      <th>13</th>\n",
       "      <td>Barbados</td>\n",
       "      <td>2015</td>\n",
       "      <td>Developing</td>\n",
       "      <td>75.5</td>\n",
       "      <td>98.0</td>\n",
       "      <td>0</td>\n",
       "      <td>NaN</td>\n",
       "      <td>0.0</td>\n",
       "      <td>97.0</td>\n",
       "      <td>0</td>\n",
       "      <td>...</td>\n",
       "      <td>7.47</td>\n",
       "      <td>97.0</td>\n",
       "      <td>0.1</td>\n",
       "      <td>15557.838100</td>\n",
       "      <td>NaN</td>\n",
       "      <td>3.8</td>\n",
       "      <td>3.7</td>\n",
       "      <td>0.794</td>\n",
       "      <td>15.3</td>\n",
       "      <td>Tropical</td>\n",
       "    </tr>\n",
       "    <tr>\n",
       "      <th>...</th>\n",
       "      <td>...</td>\n",
       "      <td>...</td>\n",
       "      <td>...</td>\n",
       "      <td>...</td>\n",
       "      <td>...</td>\n",
       "      <td>...</td>\n",
       "      <td>...</td>\n",
       "      <td>...</td>\n",
       "      <td>...</td>\n",
       "      <td>...</td>\n",
       "      <td>...</td>\n",
       "      <td>...</td>\n",
       "      <td>...</td>\n",
       "      <td>...</td>\n",
       "      <td>...</td>\n",
       "      <td>...</td>\n",
       "      <td>...</td>\n",
       "      <td>...</td>\n",
       "      <td>...</td>\n",
       "      <td>...</td>\n",
       "      <td>...</td>\n",
       "    </tr>\n",
       "    <tr>\n",
       "      <th>178</th>\n",
       "      <td>Venezuela (Bolivarian Republic of)</td>\n",
       "      <td>2015</td>\n",
       "      <td>Developing</td>\n",
       "      <td>74.1</td>\n",
       "      <td>157.0</td>\n",
       "      <td>9</td>\n",
       "      <td>NaN</td>\n",
       "      <td>0.0</td>\n",
       "      <td>87.0</td>\n",
       "      <td>0</td>\n",
       "      <td>...</td>\n",
       "      <td>5.26</td>\n",
       "      <td>87.0</td>\n",
       "      <td>0.1</td>\n",
       "      <td>NaN</td>\n",
       "      <td>NaN</td>\n",
       "      <td>1.6</td>\n",
       "      <td>1.5</td>\n",
       "      <td>0.769</td>\n",
       "      <td>14.3</td>\n",
       "      <td>Tropical</td>\n",
       "    </tr>\n",
       "    <tr>\n",
       "      <th>179</th>\n",
       "      <td>Viet Nam</td>\n",
       "      <td>2015</td>\n",
       "      <td>Developing</td>\n",
       "      <td>76.0</td>\n",
       "      <td>127.0</td>\n",
       "      <td>28</td>\n",
       "      <td>NaN</td>\n",
       "      <td>0.0</td>\n",
       "      <td>97.0</td>\n",
       "      <td>256</td>\n",
       "      <td>...</td>\n",
       "      <td>7.70</td>\n",
       "      <td>97.0</td>\n",
       "      <td>0.1</td>\n",
       "      <td>NaN</td>\n",
       "      <td>NaN</td>\n",
       "      <td>14.2</td>\n",
       "      <td>14.5</td>\n",
       "      <td>0.678</td>\n",
       "      <td>12.6</td>\n",
       "      <td>Tropical</td>\n",
       "    </tr>\n",
       "    <tr>\n",
       "      <th>180</th>\n",
       "      <td>Yemen</td>\n",
       "      <td>2015</td>\n",
       "      <td>Developing</td>\n",
       "      <td>65.7</td>\n",
       "      <td>224.0</td>\n",
       "      <td>37</td>\n",
       "      <td>NaN</td>\n",
       "      <td>0.0</td>\n",
       "      <td>69.0</td>\n",
       "      <td>468</td>\n",
       "      <td>...</td>\n",
       "      <td>5.64</td>\n",
       "      <td>69.0</td>\n",
       "      <td>0.1</td>\n",
       "      <td>NaN</td>\n",
       "      <td>NaN</td>\n",
       "      <td>13.6</td>\n",
       "      <td>13.4</td>\n",
       "      <td>0.499</td>\n",
       "      <td>9.0</td>\n",
       "      <td>Tropical</td>\n",
       "    </tr>\n",
       "    <tr>\n",
       "      <th>181</th>\n",
       "      <td>Zambia</td>\n",
       "      <td>2015</td>\n",
       "      <td>Developing</td>\n",
       "      <td>61.8</td>\n",
       "      <td>33.0</td>\n",
       "      <td>27</td>\n",
       "      <td>NaN</td>\n",
       "      <td>0.0</td>\n",
       "      <td>9.0</td>\n",
       "      <td>9</td>\n",
       "      <td>...</td>\n",
       "      <td>4.99</td>\n",
       "      <td>9.0</td>\n",
       "      <td>4.1</td>\n",
       "      <td>1313.889646</td>\n",
       "      <td>161587.0</td>\n",
       "      <td>6.3</td>\n",
       "      <td>6.1</td>\n",
       "      <td>0.576</td>\n",
       "      <td>12.5</td>\n",
       "      <td>Tropical</td>\n",
       "    </tr>\n",
       "    <tr>\n",
       "      <th>182</th>\n",
       "      <td>Zimbabwe</td>\n",
       "      <td>2015</td>\n",
       "      <td>Developing</td>\n",
       "      <td>67.0</td>\n",
       "      <td>336.0</td>\n",
       "      <td>22</td>\n",
       "      <td>NaN</td>\n",
       "      <td>0.0</td>\n",
       "      <td>87.0</td>\n",
       "      <td>0</td>\n",
       "      <td>...</td>\n",
       "      <td>6.44</td>\n",
       "      <td>87.0</td>\n",
       "      <td>6.2</td>\n",
       "      <td>118.693830</td>\n",
       "      <td>15777451.0</td>\n",
       "      <td>5.6</td>\n",
       "      <td>5.5</td>\n",
       "      <td>0.507</td>\n",
       "      <td>10.3</td>\n",
       "      <td>Tropical</td>\n",
       "    </tr>\n",
       "  </tbody>\n",
       "</table>\n",
       "<p>94 rows × 23 columns</p>\n",
       "</div>"
      ],
      "text/plain": [
       "                                Country  Year      Status  Life expectancy   \\\n",
       "3                                Angola  2015  Developing              52.4   \n",
       "4                   Antigua and Barbuda  2015  Developing              76.4   \n",
       "10                              Bahamas  2015  Developing              76.1   \n",
       "12                           Bangladesh  2015  Developing              71.8   \n",
       "13                             Barbados  2015  Developing              75.5   \n",
       "..                                  ...   ...         ...               ...   \n",
       "178  Venezuela (Bolivarian Republic of)  2015  Developing              74.1   \n",
       "179                            Viet Nam  2015  Developing              76.0   \n",
       "180                               Yemen  2015  Developing              65.7   \n",
       "181                              Zambia  2015  Developing              61.8   \n",
       "182                            Zimbabwe  2015  Developing              67.0   \n",
       "\n",
       "     Adult Mortality  infant deaths  Alcohol  percentage expenditure  \\\n",
       "3              335.0             66      NaN                     0.0   \n",
       "4               13.0              0      NaN                     0.0   \n",
       "10             147.0              0      NaN                     0.0   \n",
       "12             129.0             92      NaN                     0.0   \n",
       "13              98.0              0      NaN                     0.0   \n",
       "..               ...            ...      ...                     ...   \n",
       "178            157.0              9      NaN                     0.0   \n",
       "179            127.0             28      NaN                     0.0   \n",
       "180            224.0             37      NaN                     0.0   \n",
       "181             33.0             27      NaN                     0.0   \n",
       "182            336.0             22      NaN                     0.0   \n",
       "\n",
       "     Hepatitis B  Measles   ...  Total expenditure  Diphtheria    HIV/AIDS  \\\n",
       "3           64.0       118  ...               3.31         64.0        1.9   \n",
       "4           99.0         0  ...               5.54         99.0        0.2   \n",
       "10          95.0         0  ...               7.74         95.0        0.1   \n",
       "12          97.0       240  ...               2.82         97.0        0.1   \n",
       "13          97.0         0  ...               7.47         97.0        0.1   \n",
       "..           ...       ...  ...                ...          ...        ...   \n",
       "178         87.0         0  ...               5.26         87.0        0.1   \n",
       "179         97.0       256  ...               7.70         97.0        0.1   \n",
       "180         69.0       468  ...               5.64         69.0        0.1   \n",
       "181          9.0         9  ...               4.99          9.0        4.1   \n",
       "182         87.0         0  ...               6.44         87.0        6.2   \n",
       "\n",
       "              GDP  Population   thinness  1-19 years   thinness 5-9 years  \\\n",
       "3     3695.793748   2785935.0                    8.3                  8.2   \n",
       "4    13566.954100         NaN                    3.3                  3.3   \n",
       "10            NaN         NaN                    2.5                  2.5   \n",
       "12     121.158120   1612886.0                   17.9                 18.3   \n",
       "13   15557.838100         NaN                    3.8                  3.7   \n",
       "..            ...         ...                    ...                  ...   \n",
       "178           NaN         NaN                    1.6                  1.5   \n",
       "179           NaN         NaN                   14.2                 14.5   \n",
       "180           NaN         NaN                   13.6                 13.4   \n",
       "181   1313.889646    161587.0                    6.3                  6.1   \n",
       "182    118.693830  15777451.0                    5.6                  5.5   \n",
       "\n",
       "     Income composition of resources  Schooling      Zone  \n",
       "3                              0.531       11.4  Tropical  \n",
       "4                              0.784       13.9  Tropical  \n",
       "10                             0.790       12.6  Tropical  \n",
       "12                             0.575       10.2  Tropical  \n",
       "13                             0.794       15.3  Tropical  \n",
       "..                               ...        ...       ...  \n",
       "178                            0.769       14.3  Tropical  \n",
       "179                            0.678       12.6  Tropical  \n",
       "180                            0.499        9.0  Tropical  \n",
       "181                            0.576       12.5  Tropical  \n",
       "182                            0.507       10.3  Tropical  \n",
       "\n",
       "[94 rows x 23 columns]"
      ]
     },
     "execution_count": 75,
     "metadata": {},
     "output_type": "execute_result"
    }
   ],
   "source": [
    "lifeExpectancyTropical"
   ]
  },
  {
   "cell_type": "markdown",
   "id": "631a5618-6a67-46b3-825f-db8d13eaebd0",
   "metadata": {},
   "source": [
    "#### 2. b. (5%) Utilice diagramas de cajas para estudiar las distribuciones de la esperanza de vida, total expenditure y schooling de los países en las dos zonas planetarias. Debe haber una figura por cada variable y cada una debe tener las 2 cajas correspondientes a las zonas (ver https://www.reneshbedre.com/blog/anova.html para un ejemplo de gráfica)."
   ]
  },
  {
   "cell_type": "code",
   "execution_count": 77,
   "id": "c02cd8e6-158e-4421-9edf-4040ac689eb0",
   "metadata": {},
   "outputs": [
    {
     "data": {
      "image/png": "[encoded data removed]",
      "text/plain": [
       "<Figure size 640x480 with 1 Axes>"
      ]
     },
     "metadata": {},
     "output_type": "display_data"
    }
   ],
   "source": [
    "df_melt = mergedLifeExpectancydata.melt(id_vars='Zone', value_vars=['Life expectancy ', 'Total expenditure', 'Schooling'], var_name='variable', value_name='value')\n",
    "\n",
    "sns.boxplot(x='variable', y='value', hue='Zone', data=df_melt, palette='bright')\n",
    "plt.title('Distribución de variables por zona')\n",
    "plt.xlabel('Variables')\n",
    "plt.ylabel('Valores')\n",
    "plt.show()"
   ]
  },
  {
   "cell_type": "markdown",
   "id": "f62383e2-e2e0-49c1-9e28-7565662910c9",
   "metadata": {},
   "source": [
    "#### 2. c. (10%) Para cada una de las 3 variables y de manera separada para cada subconjunto de datos (tropical vs. templada), realice un test de normalidad como indicado en el tutorial para saber si los datos tienen una distribución gaussiana. En total son 6 tests. Concluya si las distribuciones son normales o no."
   ]
  },
  {
   "cell_type": "code",
   "execution_count": 79,
   "id": "90fdb325-825f-4f5e-9998-2b128c78aa3a",
   "metadata": {},
   "outputs": [
    {
     "name": "stdout",
     "output_type": "stream",
     "text": [
      "Test de normalidad para Life expectancy :\n",
      "  Tropical: Estadístico=0.9663916854717347, p-valor=0.01607850703211291\n",
      "  Los datos no siguen una distribución gaussiana (se rechaza H0)\n",
      "  Templada: Estadístico=0.9419172271436602, p-valor=0.0005935049691404355\n",
      "  Los datos no siguen una distribución gaussiana (se rechaza H0)\n",
      "\n",
      "Test de normalidad para Total expenditure:\n",
      "  Tropical: Estadístico=0.9408667692965592, p-valor=0.0003758477557297116\n",
      "  Los datos no siguen una distribución gaussiana (se rechaza H0)\n",
      "  Templada: Estadístico=0.9697602057349306, p-valor=0.03740873453180248\n",
      "  Los datos no siguen una distribución gaussiana (se rechaza H0)\n",
      "\n",
      "Test de normalidad para Schooling:\n",
      "  Tropical: Estadístico=0.9737630691730992, p-valor=0.06531132165137797\n",
      "  Los datos parecen seguir una distribución gaussiana (no se rechaza H0)\n",
      "  Templada: Estadístico=0.992071358967067, p-valor=0.8978482630986757\n",
      "  Los datos parecen seguir una distribución gaussiana (no se rechaza H0)\n",
      "\n"
     ]
    }
   ],
   "source": [
    "variables = ['Life expectancy ', 'Total expenditure', 'Schooling']\n",
    "\n",
    "# Test de normalidad para cada variable en cada zona\n",
    "for var in variables:\n",
    "    print(f\"Test de normalidad para {var}:\")\n",
    "\n",
    "    # Zona tropical\n",
    "    stat, p = stats.shapiro(lifeExpectancyTropical[var].dropna())\n",
    "    print(f\"  Tropical: Estadístico={stat}, p-valor={p}\")\n",
    "    if p > 0.05:\n",
    "        print(\"  Los datos parecen seguir una distribución gaussiana (no se rechaza H0)\")\n",
    "    else:\n",
    "        print(\"  Los datos no siguen una distribución gaussiana (se rechaza H0)\")\n",
    "\n",
    "    # Zona templada\n",
    "    stat, p = stats.shapiro(lifeExpectancyTemplada[var].dropna())\n",
    "    print(f\"  Templada: Estadístico={stat}, p-valor={p}\")\n",
    "    if p > 0.05:\n",
    "        print(\"  Los datos parecen seguir una distribución gaussiana (no se rechaza H0)\\n\")\n",
    "    else:\n",
    "        print(\"  Los datos no siguen una distribución gaussiana (se rechaza H0)\\n\")"
   ]
  },
  {
   "cell_type": "markdown",
   "id": "6b9fc2bf-56ed-40d2-9dc5-21fc52fc22b9",
   "metadata": {},
   "source": [
    "#### 2. d. (20%) Independientemente del resultado anterior, compare los grupos tropical y templada utilizando t-tests, para cada una de las tres variables estudiadas. Siga el enlace presentado anteriormente para investigar cómo realizar este test en Python."
   ]
  },
  {
   "cell_type": "code",
   "execution_count": 81,
   "id": "a4a05831-2380-48f0-8667-f6ac2eba96f4",
   "metadata": {},
   "outputs": [
    {
     "name": "stdout",
     "output_type": "stream",
     "text": [
      "T-Test para Life expectancy :\n",
      "  Estadístico=-7.990337405036084, p-valor=1.5242935714665636e-13\n",
      "  Hay una diferencia significativa entre las zonas (se rechaza H0)\n",
      "\n",
      "T-Test para Total expenditure:\n",
      "  Estadístico=-2.651490530299549, p-valor=0.008732775296516677\n",
      "  Hay una diferencia significativa entre las zonas (se rechaza H0)\n",
      "\n",
      "T-Test para Schooling:\n",
      "  Estadístico=-8.312646026344778, p-valor=2.798219174601402e-14\n",
      "  Hay una diferencia significativa entre las zonas (se rechaza H0)\n",
      "\n"
     ]
    }
   ],
   "source": [
    "variables = ['Life expectancy ', 'Total expenditure', 'Schooling']\n",
    "\n",
    "# T-Tests para cada variable\n",
    "for var in variables:\n",
    "    print(f\"T-Test para {var}:\")\n",
    "\n",
    "    # Realizar el t-test\n",
    "    stat, p = stats.ttest_ind(lifeExpectancyTropical[var].dropna(), lifeExpectancyTemplada[var].dropna())\n",
    "    print(f\"  Estadístico={stat}, p-valor={p}\")\n",
    "    if p < 0.05:\n",
    "        print(\"  Hay una diferencia significativa entre las zonas (se rechaza H0)\\n\")\n",
    "    else:\n",
    "        print(\"  No hay una diferencia significativa entre las zonas (no se rechaza H0)\\n\")\n"
   ]
  },
  {
   "cell_type": "markdown",
   "id": "cac16d44-8f76-4d00-8d81-1d45e876597a",
   "metadata": {},
   "source": [
    "#### 2. e. (10%) Dé una interpretación a estos resultados, con base en lo que investigó previamente en los enlaces proporcionados. Explique cuáles son las hipótesis del t-test y cómo se interpretan los resultados. ¿Hay diferencias en esperanza de vida, gasto total y escolaridad entre zonas del mundo? En caso de ser así, indique cuál de ellos tiene una media mayor."
   ]
  },
  {
   "cell_type": "markdown",
   "id": "89d9e4fb-dda9-4087-a9d8-bfed6ff1c3ea",
   "metadata": {},
   "source": [
    "Las hipotesis del t-test son las siguientes:\n",
    "\n",
    "1- Hipótesis nula (H₀): No existe una diferencia significativa entre las medias de los dos grupos (las zonas del mundo tienen la misma media en la variable analizada).\n",
    "\n",
    "2- Hipótesis alternativa (H₁): Existe una diferencia significativa entre las medias de los dos grupos (las zonas del mundo tienen medias diferentes en la variable analizada).\n",
    "\n",
    "Interpretacion de resultados:\n",
    "\n",
    "1- T-test para Life expectancy (esperanza de vida):\n",
    "\n",
    "Estadístico = -7.99\n",
    "\n",
    "p-valor = 1.52e-13\n",
    "\n",
    "Interpretación: Dado que el p-valor es menor que el nivel de significancia predeterminado de 0.05, se rechaza la hipótesis nula. Esto indica que hay una diferencia significativa en la \"esperanza de vida\" entre las zonas del mundo.\n",
    "\n",
    "T-test para Total expenditure (gasto total):\n",
    "\n",
    "Estadístico = -2.65\n",
    "\n",
    "p-valor = 0.0087\n",
    "\n",
    "Interpretación: Dado que el p-valor es menor que el nivel de significancia predeterminado de 0.05, se rechaza la hipótesis nula. Esto indica que hay una diferencia significativa en el \"gasto total\" entre las zonas del mundo.\n",
    "\n",
    "T-test para Schooling (escolaridad):\n",
    "\n",
    "Estadístico = -8.31\n",
    "\n",
    "p-valor = 2.79e-14\n",
    "\n",
    "Interpretación: Dado que el p-valor es menor que el nivel de significancia predeterminado de 0.05, se rechaza la hipótesis nula. Esto indica que hay una diferencia significativa en la \"escolaridad\" entre las zonas del mundo.\n",
    "\n",
    "Para finalizar la zona que tiene una media mayor es la templada.\n",
    "Esto debido al simbolo de \"-\" en el dato \"Estadistico\", lo que nos indica que la segunda zona es la que posee una media mayor siendo esta la zona templada."
   ]
  }
 ],
 "metadata": {
  "kernelspec": {
   "display_name": "Python 3 (ipykernel)",
   "language": "python",
   "name": "python3"
  },
  "language_info": {
   "codemirror_mode": {
    "name": "ipython",
    "version": 3
   },
   "file_extension": ".py",
   "mimetype": "text/x-python",
   "name": "python",
   "nbconvert_exporter": "python",
   "pygments_lexer": "ipython3",
   "version": "3.12.5"
  }
 },
 "nbformat": 4,
 "nbformat_minor": 5
}
